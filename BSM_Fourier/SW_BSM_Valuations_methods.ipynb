{
 "cells": [
  {
   "cell_type": "code",
   "execution_count": 5,
   "id": "0c0315de-ffb8-4d2c-845e-60e193071e1d",
   "metadata": {},
   "outputs": [],
   "source": [
    "import numpy as np\n",
    "from numpy.fft import fft\n",
    "from scipy.integrate import quad\n",
    "from scipy import stats\n",
    "import matplotlib.pyplot as plt\n",
    "import matplotlib as mpl\n",
    "mpl.rcParams['font.family'] = 'serif'\n",
    "import time"
   ]
  },
  {
   "cell_type": "code",
   "execution_count": 2,
   "id": "131ba243-b5c9-4761-96e7-69b78f99f977",
   "metadata": {},
   "outputs": [],
   "source": [
    "S0 = 100.00 \n",
    "K = 100.00  \n",
    "T = 1.  \n",
    "r = 0.05\n",
    "sigma = 0.2 \n",
    "\n",
    "    ''' Valuation of European call option in BSM model via Lewis (2001)\n",
    "    --> Fourier-based approach (integral).\n",
    "\n",
    "    Parameters\n",
    "    ==========\n",
    "    S0: float\n",
    "        initial stock/index level\n",
    "    K: float\n",
    "        strike price\n",
    "    T: float\n",
    "        time-to-maturity (for t=0)\n",
    "    r: float\n",
    "        constant risk-free short rate\n",
    "    sigma: float\n",
    "        volatility factor in diffusion term\n",
    "\n",
    "    Returns\n",
    "    =======\n",
    "    call_value: float\n",
    "        European call option present value\n",
    "    '''\n"
   ]
  },
  {
   "cell_type": "code",
   "execution_count": 3,
   "id": "2316d0c9-07a6-470c-bcfd-883ad23d26ec",
   "metadata": {},
   "outputs": [],
   "source": [
    "#\n",
    "# Call Valuation by Analytical Solution\n",
    "#\n",
    "\n",
    "def BSM_call_value(S0, K, T, r, sigma):\n",
    "    d1 = (np.log(S0 / K) + (r + 0.5 * sigma ** 2) * T) \\\n",
    "        / (sigma * np.sqrt(T))\n",
    "    d2 = (np.log(S0 / K) + (r - 0.5 * sigma ** 2) * T) \\\n",
    "        / (sigma * np.sqrt(T))\n",
    "    BS_C = (S0 * stats.norm.cdf(d1, 0.0, 1.0) -\n",
    "            K * np.exp(-r * T) * stats.norm.cdf(d2, 0.0, 1.0))\n",
    "    return BS_C"
   ]
  },
  {
   "cell_type": "code",
   "execution_count": 4,
   "id": "6118c1ec-8fc4-4376-81e1-6a1bfdbf7928",
   "metadata": {},
   "outputs": [
    {
     "data": {
      "text/plain": [
       "10.450583572185565"
      ]
     },
     "execution_count": 4,
     "metadata": {},
     "output_type": "execute_result"
    }
   ],
   "source": [
    "BSM_call_value(S0, K, T, r, sigma)"
   ]
  },
  {
   "cell_type": "code",
   "execution_count": 8,
   "id": "55a178a7-ed2d-4ed4-8e4c-f895e92e9487",
   "metadata": {},
   "outputs": [],
   "source": [
    "#\n",
    "# Fourier Transform with Numerical int_valueegration\n",
    "#     ''' Valuation of European call option in BSM model via Lewis (2001)\n",
    "#     --> Fourier-based approach (integral).\n",
    "\n",
    "def BSM_call_value_INT(S0, K, T, r, sigma):\n",
    "    int_value = quad(lambda u:\n",
    "                     BSM_integral_function(u, S0, K, T, r, sigma), 0, 100)[0]\n",
    "    call_value = max(0, S0 - np.exp(-r * T) * np.sqrt(S0 * K) /\n",
    "                     np.pi * int_value)\n",
    "    return call_value\n",
    "\n",
    "def BSM_integral_function(u, S0, K, T, r, sigma):\n",
    "    cf_value = BSM_characteristic_function(u - 1j * 0.5, 0.0, T, r, sigma)\n",
    "    int_value = 1 / (u ** 2 + 0.25) \\\n",
    "        * (np.exp(1j * u * np.log(S0 / K)) * cf_value).real\n",
    "    return int_value\n",
    "\n",
    "def BSM_characteristic_function(v, x0, T, r, sigma):\n",
    "    cf_value = np.exp(((x0 / T + r - 0.5 * sigma ** 2) * 1j * v -\n",
    "                       0.5 * sigma ** 2 * v ** 2) * T)\n",
    "    return cf_value\n"
   ]
  },
  {
   "cell_type": "code",
   "execution_count": 9,
   "id": "d3cab3de-3802-4490-96f3-ceee0b8a5ced",
   "metadata": {},
   "outputs": [],
   "source": [
    "#\n",
    "# Numerical Solution:Fourier Transform with FFT\n",
    "#\n",
    "\n",
    "\n",
    "def BSM_call_value_FFT(S0, K, T, r, sigma):\n",
    "    k = np.log(K / S0)\n",
    "    x0 = np.log(S0 / S0)\n",
    "    g = 1  # factor to increase accuracy\n",
    "    N = g * 4096\n",
    "    eps = (g * 150.) ** -1\n",
    "    eta = 2 * np.pi / (N * eps)\n",
    "    b = 0.5 * N * eps - k\n",
    "    u = np.arange(1, N + 1, 1)\n",
    "    vo = eta * (u - 1)\n",
    "    # Modificatons to Ensure int_valueegrability\n",
    "    if S0 >= 0.95 * K:  # ITM case\n",
    "        alpha = 1.5\n",
    "        v = vo - (alpha + 1) * 1j\n",
    "        modcharFunc = np.exp(-r * T) * (BSM_characteristic_function(\n",
    "            v, x0, T, r, sigma) /\n",
    "            (alpha ** 2 + alpha - vo ** 2 + 1j * (2 * alpha + 1) * vo))\n",
    "    else:        # OTM case\n",
    "        alpha = 1.1\n",
    "        v = (vo - 1j * alpha) - 1j\n",
    "        modcharFunc1 = np.exp(-r * T) * (1 / (1 + 1j * (vo - 1j * alpha)) -\n",
    "                             np.exp(r * T) / (1j * (vo - 1j * alpha)) -\n",
    "                             BSM_characteristic_function(v, x0, T, r, sigma) /\n",
    "                             ((vo - 1j * alpha) ** 2 -\n",
    "                              1j * (vo - 1j * alpha)))\n",
    "        v = (vo + 1j * alpha) - 1j\n",
    "        modcharFunc2 = np.exp(-r * T) * (1 / (1 + 1j * (vo + 1j * alpha))\n",
    "                             - np.exp(r * T) /\n",
    "                             (1j * (vo + 1j * alpha))\n",
    "                             - BSM_characteristic_function(\n",
    "            v, x0, T, r, sigma) /\n",
    "            ((vo + 1j * alpha) ** 2 - 1j * (vo + 1j * alpha)))\n",
    "    # Numerical FFT Routine\n",
    "    delt = np.zeros(N, dtype=np.float)\n",
    "    delt[0] = 1\n",
    "    j = np.arange(1, N + 1, 1)\n",
    "    SimpsonW = (3 + (-1) ** j - delt) / 3\n",
    "    if S0 >= 0.95 * K:\n",
    "        FFTFunc = np.exp(1j * b * vo) * modcharFunc * eta * SimpsonW\n",
    "        payoff = (fft(FFTFunc)).real\n",
    "        CallValueM = np.exp(-alpha * k) / np.pi * payoff\n",
    "    else:\n",
    "        FFTFunc = (np.exp(1j * b * vo) *\n",
    "                   (modcharFunc1 - modcharFunc2) *\n",
    "                   0.5 * eta * SimpsonW)\n",
    "        payoff = (fft(FFTFunc)).real\n",
    "        CallValueM = payoff / (np.sinh(alpha * k) * np.pi)\n",
    "    pos = int((k + b) / eps)\n",
    "    CallValue = CallValueM[pos] * S0\n",
    "    # klist = np.exp((np.arange(0, N, 1) - 1) * eps - b) * S0\n",
    "    return CallValue  # , klist[pos - 50:pos + 50]\n"
   ]
  },
  {
   "cell_type": "code",
   "execution_count": 11,
   "id": "190c0587-6d32-49f1-a4ad-08bbb3a78f28",
   "metadata": {},
   "outputs": [
    {
     "name": "stdout",
     "output_type": "stream",
     "text": [
      "Simple BSM time:  0.0006926059722900391\n",
      "Int BSM time:  0.0025920867919921875\n",
      "FFT BSM time:  0.00406193733215332\n"
     ]
    },
    {
     "name": "stderr",
     "output_type": "stream",
     "text": [
      "<ipython-input-9-45c183a7f39f>:61: DeprecationWarning: `np.float` is a deprecated alias for the builtin `float`. To silence this warning, use `float` by itself. Doing this will not modify any behavior and is safe. If you specifically wanted the numpy scalar type, use `np.float64` here.\n",
      "Deprecated in NumPy 1.20; for more details and guidance: https://numpy.org/devdocs/release/1.20.0-notes.html#deprecations\n",
      "  delt = np.zeros(N, dtype=np.float)\n"
     ]
    }
   ],
   "source": [
    "start_time=time.time()\n",
    "BSM_call_value(S0, K, T, r, sigma)\n",
    "end_time=time.time()\n",
    "print('Simple BSM time: ',end_time-start_time)\n",
    "\n",
    "start_time=time.time()\n",
    "BSM_call_value_INT(S0, K, T, r, sigma)\n",
    "end_time=time.time()\n",
    "print('Int BSM time: ',end_time-start_time)\n",
    "\n",
    "\n",
    "start_time=time.time()\n",
    "BSM_call_value_FFT(S0, K, T, r, sigma)\n",
    "end_time=time.time()\n",
    "print('FFT BSM time: ',end_time-start_time)\n"
   ]
  },
  {
   "cell_type": "code",
   "execution_count": 12,
   "id": "eddd3284-8fad-4d23-a664-32236b40ba85",
   "metadata": {},
   "outputs": [],
   "source": [
    "def plot_val_differences(vtype='int'):\n",
    "    k_list = np.linspace(S0 * 0.6, S0 * 1.4, 50)\n",
    "    ana_values = BSM_call_value(S0, k_list, T, r, sigma)\n",
    "    plt.figure(figsize=(8, 6))\n",
    "    plt.subplot(311)\n",
    "    plt.plot(k_list, ana_values, 'b', label='analytical', lw=1.5)\n",
    "    if vtype == 'int':\n",
    "        int_values = np.array([BSM_call_value_INT(S0, K, T, r, sigma)\n",
    "                               for K in k_list])\n",
    "        plt.plot(k_list, int_values, 'r-.', label='Fourier (integral)', lw=1.5)\n",
    "        diffs = int_values - ana_values\n",
    "        rdiffs = (int_values - ana_values) / ana_values\n",
    "    else:\n",
    "        fft_values = np.array([BSM_call_value_FFT(S0, K, T, r, sigma)\n",
    "                               for K in k_list])\n",
    "        plt.plot(k_list, fft_values, 'r-.', label='Fourier (FFT)', lw=1.5)\n",
    "        diffs = fft_values - ana_values\n",
    "        rdiffs = (fft_values - ana_values) / ana_values\n",
    "    plt.legend()\n",
    "    plt.subplot(312)\n",
    "    plt.plot(k_list, diffs, 'g', label='abs. difference', lw=1.5)\n",
    "    plt.legend(loc=0)\n",
    "    plt.subplot(313)\n",
    "    plt.plot(k_list, rdiffs, 'r', label='rel. difference', lw=1.5)\n",
    "    plt.legend(loc=0)\n",
    "    plt.xlabel('strike')\n",
    "    plt.tight_layout()"
   ]
  },
  {
   "cell_type": "code",
   "execution_count": 13,
   "id": "ddd4ad8b-fcf3-48a4-a681-521d8423dedd",
   "metadata": {},
   "outputs": [
    {
     "data": {
      "image/png": "[encoded data removed]",
      "text/plain": [
       "<Figure size 576x432 with 3 Axes>"
      ]
     },
     "metadata": {
      "needs_background": "light"
     },
     "output_type": "display_data"
    }
   ],
   "source": [
    "plot_val_differences()"
   ]
  },
  {
   "cell_type": "code",
   "execution_count": null,
   "id": "186682fc-42d5-4dc8-be6f-d56b18ad0166",
   "metadata": {},
   "outputs": [],
   "source": []
  }
 ],
 "metadata": {
  "kernelspec": {
   "display_name": "Python 3",
   "language": "python",
   "name": "python3"
  },
  "language_info": {
   "codemirror_mode": {
    "name": "ipython",
    "version": 3
   },
   "file_extension": ".py",
   "mimetype": "text/x-python",
   "name": "python",
   "nbconvert_exporter": "python",
   "pygments_lexer": "ipython3",
   "version": "3.8.8"
  }
 },
 "nbformat": 4,
 "nbformat_minor": 5
}
